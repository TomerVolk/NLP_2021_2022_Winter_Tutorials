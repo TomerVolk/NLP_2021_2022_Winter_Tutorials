{
 "cells": [
  {
   "cell_type": "markdown",
   "metadata": {
    "id": "-5MLbVrlurDA"
   },
   "source": [
    "# Tutorial 1 - Introduction To Machine Learning\n",
    "\n",
    "> Natutral Language Processing course - 097215\n",
    "\n"
   ]
  },
  {
   "cell_type": "markdown",
   "metadata": {
    "id": "9B24JONevSB9"
   },
   "source": [
    "## Importing The Data"
   ]
  },
  {
   "cell_type": "code",
   "execution_count": 13,
   "metadata": {
    "executionInfo": {
     "elapsed": 242,
     "status": "ok",
     "timestamp": 1631118782527,
     "user": {
      "displayName": "תומר וולק",
      "photoUrl": "https://lh3.googleusercontent.com/a-/AOh14GhDAXM5v2by4xMwnYYySIn2IrNiidPslt6u4Eez1g=s64",
      "userId": "10359306600558254546"
     },
     "user_tz": -180
    },
    "id": "axQhv6PbyaNo"
   },
   "outputs": [],
   "source": [
    "import pandas as pd"
   ]
  },
  {
   "cell_type": "code",
   "execution_count": 14,
   "metadata": {},
   "outputs": [],
   "source": [
    "DATA_PATH = 'spam_data'\n",
    "\n",
    "train = pd.read_csv(f'{DATA_PATH}/train_spam.csv')\n",
    "test = pd.read_csv(f'{DATA_PATH}/test_spam.csv')"
   ]
  },
  {
   "cell_type": "code",
   "execution_count": 15,
   "metadata": {},
   "outputs": [
    {
     "data": {
      "text/html": [
       "<div>\n",
       "<style scoped>\n",
       "    .dataframe tbody tr th:only-of-type {\n",
       "        vertical-align: middle;\n",
       "    }\n",
       "\n",
       "    .dataframe tbody tr th {\n",
       "        vertical-align: top;\n",
       "    }\n",
       "\n",
       "    .dataframe thead th {\n",
       "        text-align: right;\n",
       "    }\n",
       "</style>\n",
       "<table border=\"1\" class=\"dataframe\">\n",
       "  <thead>\n",
       "    <tr style=\"text-align: right;\">\n",
       "      <th></th>\n",
       "      <th>email</th>\n",
       "      <th>label</th>\n",
       "    </tr>\n",
       "  </thead>\n",
       "  <tbody>\n",
       "    <tr>\n",
       "      <th>0</th>\n",
       "      <td>a green once said that if the spotted owl had...</td>\n",
       "      <td>0</td>\n",
       "    </tr>\n",
       "    <tr>\n",
       "      <th>1</th>\n",
       "      <td>substantial monthly income makers voucher inco...</td>\n",
       "      <td>1</td>\n",
       "    </tr>\n",
       "    <tr>\n",
       "      <th>2</th>\n",
       "      <td>from robert elz kre munnari oz au date sat NU...</td>\n",
       "      <td>0</td>\n",
       "    </tr>\n",
       "    <tr>\n",
       "      <th>3</th>\n",
       "      <td>so like many young children my daughter tatum ...</td>\n",
       "      <td>0</td>\n",
       "    </tr>\n",
       "    <tr>\n",
       "      <th>4</th>\n",
       "      <td>heh ten years ago saying the exact same words ...</td>\n",
       "      <td>0</td>\n",
       "    </tr>\n",
       "    <tr>\n",
       "      <th>...</th>\n",
       "      <td>...</td>\n",
       "      <td>...</td>\n",
       "    </tr>\n",
       "    <tr>\n",
       "      <th>678</th>\n",
       "      <td>guaranteed to increase lift and firm your bre...</td>\n",
       "      <td>1</td>\n",
       "    </tr>\n",
       "    <tr>\n",
       "      <th>679</th>\n",
       "      <td>______________________________________________...</td>\n",
       "      <td>1</td>\n",
       "    </tr>\n",
       "    <tr>\n",
       "      <th>680</th>\n",
       "      <td>hyperlink hyperlink to be removed from this l...</td>\n",
       "      <td>1</td>\n",
       "    </tr>\n",
       "    <tr>\n",
       "      <th>681</th>\n",
       "      <td>url URL date NUMBER NUMBER NUMBERtNUMBER NUMBE...</td>\n",
       "      <td>0</td>\n",
       "    </tr>\n",
       "    <tr>\n",
       "      <th>682</th>\n",
       "      <td>your sex drive should never be second on the l...</td>\n",
       "      <td>1</td>\n",
       "    </tr>\n",
       "  </tbody>\n",
       "</table>\n",
       "<p>683 rows × 2 columns</p>\n",
       "</div>"
      ],
      "text/plain": [
       "                                                 email  label\n",
       "0     a green once said that if the spotted owl had...      0\n",
       "1    substantial monthly income makers voucher inco...      1\n",
       "2     from robert elz kre munnari oz au date sat NU...      0\n",
       "3    so like many young children my daughter tatum ...      0\n",
       "4    heh ten years ago saying the exact same words ...      0\n",
       "..                                                 ...    ...\n",
       "678   guaranteed to increase lift and firm your bre...      1\n",
       "679  ______________________________________________...      1\n",
       "680   hyperlink hyperlink to be removed from this l...      1\n",
       "681  url URL date NUMBER NUMBER NUMBERtNUMBER NUMBE...      0\n",
       "682  your sex drive should never be second on the l...      1\n",
       "\n",
       "[683 rows x 2 columns]"
      ]
     },
     "execution_count": 15,
     "metadata": {},
     "output_type": "execute_result"
    }
   ],
   "source": [
    "train"
   ]
  },
  {
   "cell_type": "code",
   "execution_count": 35,
   "metadata": {},
   "outputs": [
    {
     "name": "stdout",
     "output_type": "stream",
     "text": [
      "there are 339 spam sentences out of 683 sentences overall, which is 0.496 percent\n"
     ]
    }
   ],
   "source": [
    "true = sum(train['label'])\n",
    "print(\"there are %1d spam sentences out of %1d sentences overall, which is %1.3f percent\" % (true, len(train), true/len(train)))"
   ]
  },
  {
   "cell_type": "markdown",
   "metadata": {
    "id": "_qhitVdb0__j"
   },
   "source": [
    "## Creating The TF-IDF Representations"
   ]
  },
  {
   "cell_type": "code",
   "execution_count": 36,
   "metadata": {
    "executionInfo": {
     "elapsed": 236,
     "status": "ok",
     "timestamp": 1631118784396,
     "user": {
      "displayName": "תומר וולק",
      "photoUrl": "https://lh3.googleusercontent.com/a-/AOh14GhDAXM5v2by4xMwnYYySIn2IrNiidPslt6u4Eez1g=s64",
      "userId": "10359306600558254546"
     },
     "user_tz": -180
    },
    "id": "dmQW_ZhbzF5Q"
   },
   "outputs": [],
   "source": [
    "from sklearn.feature_extraction.text import TfidfVectorizer"
   ]
  },
  {
   "cell_type": "code",
   "execution_count": 37,
   "metadata": {
    "executionInfo": {
     "elapsed": 314,
     "status": "ok",
     "timestamp": 1631118784959,
     "user": {
      "displayName": "תומר וולק",
      "photoUrl": "https://lh3.googleusercontent.com/a-/AOh14GhDAXM5v2by4xMwnYYySIn2IrNiidPslt6u4Eez1g=s64",
      "userId": "10359306600558254546"
     },
     "user_tz": -180
    },
    "id": "Rn17ZF8J1QqD"
   },
   "outputs": [],
   "source": [
    "train_x, train_y = train['email'].tolist(), train['label'].tolist()\n",
    "test_x, test_y = test['email'].tolist(), test['label'].tolist()"
   ]
  },
  {
   "cell_type": "code",
   "execution_count": 38,
   "metadata": {
    "executionInfo": {
     "elapsed": 3212,
     "status": "ok",
     "timestamp": 1631118788417,
     "user": {
      "displayName": "תומר וולק",
      "photoUrl": "https://lh3.googleusercontent.com/a-/AOh14GhDAXM5v2by4xMwnYYySIn2IrNiidPslt6u4Eez1g=s64",
      "userId": "10359306600558254546"
     },
     "user_tz": -180
    },
    "id": "O0L4Nevi1o6v"
   },
   "outputs": [],
   "source": [
    "tf_vectorizer = TfidfVectorizer(lowercase=True, stop_words=None)\n",
    "train_vec = tf_vectorizer.fit_transform(train_x)\n",
    "test_vec = tf_vectorizer.transform(test_x)"
   ]
  },
  {
   "cell_type": "code",
   "execution_count": 39,
   "metadata": {
    "colab": {
     "base_uri": "https://localhost:8080/"
    },
    "executionInfo": {
     "elapsed": 4,
     "status": "ok",
     "timestamp": 1631118788418,
     "user": {
      "displayName": "תומר וולק",
      "photoUrl": "https://lh3.googleusercontent.com/a-/AOh14GhDAXM5v2by4xMwnYYySIn2IrNiidPslt6u4Eez1g=s64",
      "userId": "10359306600558254546"
     },
     "user_tz": -180
    },
    "id": "MtOcT27F2fXe",
    "outputId": "bcfa6f01-9f53-4b2c-a723-5c4aff34791f"
   },
   "outputs": [
    {
     "name": "stdout",
     "output_type": "stream",
     "text": [
      "(683, 18748)\n",
      "(171, 18748)\n"
     ]
    }
   ],
   "source": [
    "print(train_vec.shape)\n",
    "print(test_vec.shape)"
   ]
  },
  {
   "cell_type": "markdown",
   "metadata": {
    "id": "9yBfq-_E3q_Y"
   },
   "source": [
    "## Training The Model"
   ]
  },
  {
   "cell_type": "code",
   "execution_count": 40,
   "metadata": {
    "executionInfo": {
     "elapsed": 247,
     "status": "ok",
     "timestamp": 1631118792958,
     "user": {
      "displayName": "תומר וולק",
      "photoUrl": "https://lh3.googleusercontent.com/a-/AOh14GhDAXM5v2by4xMwnYYySIn2IrNiidPslt6u4Eez1g=s64",
      "userId": "10359306600558254546"
     },
     "user_tz": -180
    },
    "id": "YxVcPsL023dm"
   },
   "outputs": [],
   "source": [
    "from sklearn.neighbors import KNeighborsClassifier"
   ]
  },
  {
   "cell_type": "code",
   "execution_count": 41,
   "metadata": {
    "executionInfo": {
     "elapsed": 2,
     "status": "ok",
     "timestamp": 1631118793202,
     "user": {
      "displayName": "תומר וולק",
      "photoUrl": "https://lh3.googleusercontent.com/a-/AOh14GhDAXM5v2by4xMwnYYySIn2IrNiidPslt6u4Eez1g=s64",
      "userId": "10359306600558254546"
     },
     "user_tz": -180
    },
    "id": "SlRsRDuF3yMy"
   },
   "outputs": [],
   "source": [
    "classifier = KNeighborsClassifier(n_neighbors=5)\n",
    "classifier = classifier.fit(train_vec, train_y)"
   ]
  },
  {
   "cell_type": "markdown",
   "metadata": {
    "id": "mNWI17ud5b8a"
   },
   "source": [
    "## Testing The Model"
   ]
  },
  {
   "cell_type": "code",
   "execution_count": 42,
   "metadata": {
    "executionInfo": {
     "elapsed": 239,
     "status": "ok",
     "timestamp": 1631118794954,
     "user": {
      "displayName": "תומר וולק",
      "photoUrl": "https://lh3.googleusercontent.com/a-/AOh14GhDAXM5v2by4xMwnYYySIn2IrNiidPslt6u4Eez1g=s64",
      "userId": "10359306600558254546"
     },
     "user_tz": -180
    },
    "id": "JUHA6Kke6ZN-"
   },
   "outputs": [],
   "source": [
    "from sklearn.metrics import confusion_matrix, f1_score, recall_score, precision_score, accuracy_score\n",
    "from matplotlib import pyplot as plt\n",
    "import seaborn as sns"
   ]
  },
  {
   "cell_type": "code",
   "execution_count": 43,
   "metadata": {
    "executionInfo": {
     "elapsed": 16970,
     "status": "ok",
     "timestamp": 1631118812180,
     "user": {
      "displayName": "תומר וולק",
      "photoUrl": "https://lh3.googleusercontent.com/a-/AOh14GhDAXM5v2by4xMwnYYySIn2IrNiidPslt6u4Eez1g=s64",
      "userId": "10359306600558254546"
     },
     "user_tz": -180
    },
    "id": "UGBv5Mnq3-PN"
   },
   "outputs": [],
   "source": [
    "test_pred = classifier.predict(test_vec)"
   ]
  },
  {
   "cell_type": "code",
   "execution_count": 44,
   "metadata": {
    "colab": {
     "base_uri": "https://localhost:8080/",
     "height": 295
    },
    "executionInfo": {
     "elapsed": 389,
     "status": "ok",
     "timestamp": 1631118812569,
     "user": {
      "displayName": "תומר וולק",
      "photoUrl": "https://lh3.googleusercontent.com/a-/AOh14GhDAXM5v2by4xMwnYYySIn2IrNiidPslt6u4Eez1g=s64",
      "userId": "10359306600558254546"
     },
     "user_tz": -180
    },
    "id": "w26kxPbV6Qp2",
    "outputId": "e1376b4d-640f-40aa-9cf3-d254abbb1e47"
   },
   "outputs": [
    {
     "name": "stderr",
     "output_type": "stream",
     "text": [
      "C:\\Users\\tomer\\anaconda3\\lib\\site-packages\\sklearn\\utils\\validation.py:70: FutureWarning: Pass labels=[0, 1] as keyword args. From version 1.0 (renaming of 0.25) passing these as positional arguments will result in an error\n",
      "  warnings.warn(f\"Pass {args_msg} as keyword args. From version \"\n"
     ]
    },
    {
     "data": {
      "image/png": "[encoded data removed]",
      "text/plain": [
       "<Figure size 432x288 with 2 Axes>"
      ]
     },
     "metadata": {
      "needs_background": "light"
     },
     "output_type": "display_data"
    }
   ],
   "source": [
    "labels = classifier.classes_.tolist()\n",
    "cm = confusion_matrix(test_y, test_pred, labels)\n",
    "ax = plt.subplot()\n",
    "sns.heatmap(cm, annot=True, fmt='g', ax=ax)  #annot=True to annotate cells, ftm='g' to disable scientific notation\n",
    "\n",
    "# labels, title and ticks\n",
    "ax.set_xlabel('Predicted labels')\n",
    "ax.set_ylabel('True labels')\n",
    "ax.set_title('Confusion Matrix')\n",
    "ax.xaxis.set_ticklabels(labels)\n",
    "ax.yaxis.set_ticklabels(labels)\n",
    "plt.show()"
   ]
  },
  {
   "cell_type": "code",
   "execution_count": 50,
   "metadata": {
    "colab": {
     "base_uri": "https://localhost:8080/"
    },
    "executionInfo": {
     "elapsed": 5,
     "status": "ok",
     "timestamp": 1631118812570,
     "user": {
      "displayName": "תומר וולק",
      "photoUrl": "https://lh3.googleusercontent.com/a-/AOh14GhDAXM5v2by4xMwnYYySIn2IrNiidPslt6u4Eez1g=s64",
      "userId": "10359306600558254546"
     },
     "user_tz": -180
    },
    "id": "40NYZU4N6vMz",
    "outputId": "d92a60ea-7d27-4cda-dc5f-8b9c10e2deff"
   },
   "outputs": [
    {
     "name": "stdout",
     "output_type": "stream",
     "text": [
      "Accuracy: 0.789\n",
      "Recall: 0.966\n",
      "Precision: 0.720 \n",
      "F1: 0.825 \n"
     ]
    }
   ],
   "source": [
    "f1 = f1_score(test_y, test_pred, pos_label=1)\n",
    "recall = recall_score(test_y, test_pred, pos_label=1)\n",
    "precision = precision_score(test_y, test_pred, pos_label=1)\n",
    "accuracy = accuracy_score(test_y, test_pred)\n",
    "print(f'Accuracy: %1.3f' % accuracy)\n",
    "print(f'Recall: %1.3f' % recall)\n",
    "print(f'Precision: %1.3f ' % precision)\n",
    "print(f'F1: %1.3f ' % f1)\n"
   ]
  },
  {
   "cell_type": "code",
   "execution_count": null,
   "metadata": {
    "id": "nMS99xhW9Jf8"
   },
   "outputs": [],
   "source": []
  }
 ],
 "metadata": {
  "colab": {
   "collapsed_sections": [],
   "name": "Tutorial 01 - intro to ML.ipynb",
   "provenance": []
  },
  "kernelspec": {
   "display_name": "Python 3 (ipykernel)",
   "language": "python",
   "name": "python3"
  },
  "language_info": {
   "codemirror_mode": {
    "name": "ipython",
    "version": 3
   },
   "file_extension": ".py",
   "mimetype": "text/x-python",
   "name": "python",
   "nbconvert_exporter": "python",
   "pygments_lexer": "ipython3",
   "version": "3.8.8"
  }
 },
 "nbformat": 4,
 "nbformat_minor": 1
}
