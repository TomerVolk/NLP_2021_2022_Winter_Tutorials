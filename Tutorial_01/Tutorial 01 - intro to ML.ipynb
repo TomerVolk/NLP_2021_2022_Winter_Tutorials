{
 "cells": [
  {
   "cell_type": "markdown",
   "metadata": {
    "id": "-5MLbVrlurDA"
   },
   "source": [
    "# Tutorial 1 - Introduction To Machine Learning\n",
    "\n",
    "> Natutral Language Processing course - 097215\n",
    "\n"
   ]
  },
  {
   "cell_type": "markdown",
   "metadata": {
    "id": "9B24JONevSB9"
   },
   "source": [
    "## Importing The Data"
   ]
  },
  {
   "cell_type": "code",
   "execution_count": 3,
   "metadata": {
    "executionInfo": {
     "elapsed": 468,
     "status": "ok",
     "timestamp": 1631118744185,
     "user": {
      "displayName": "תומר וולק",
      "photoUrl": "https://lh3.googleusercontent.com/a-/AOh14GhDAXM5v2by4xMwnYYySIn2IrNiidPslt6u4Eez1g=s64",
      "userId": "10359306600558254546"
     },
     "user_tz": -180
    },
    "id": "wkbFZs-3wQgZ"
   },
   "outputs": [],
   "source": [
    "import pandas as pd\n",
    "import gzip\n",
    "from sklearn.model_selection import train_test_split"
   ]
  },
  {
   "cell_type": "markdown",
   "metadata": {
    "id": "b1DyUq9OQKZ9"
   },
   "source": [
    "Run the next cell in linux for dowloading the data:"
   ]
  },
  {
   "cell_type": "code",
   "execution_count": 2,
   "metadata": {
    "colab": {
     "base_uri": "https://localhost:8080/"
    },
    "executionInfo": {
     "elapsed": 1428,
     "status": "ok",
     "timestamp": 1631118766985,
     "user": {
      "displayName": "תומר וולק",
      "photoUrl": "https://lh3.googleusercontent.com/a-/AOh14GhDAXM5v2by4xMwnYYySIn2IrNiidPslt6u4Eez1g=s64",
      "userId": "10359306600558254546"
     },
     "user_tz": -180
    },
    "id": "aWsDIcP4ul0_",
    "outputId": "7614c9f5-4069-4af9-bf4b-ce3cdcd4f645"
   },
   "outputs": [
    {
     "name": "stdout",
     "output_type": "stream",
     "text": [
      "--2021-09-08 16:32:44--  http://snap.stanford.edu/data/amazon/productGraph/categoryFiles/reviews_Amazon_Instant_Video_5.json.gz\n",
      "Resolving snap.stanford.edu (snap.stanford.edu)... 171.64.75.80\n",
      "Connecting to snap.stanford.edu (snap.stanford.edu)|171.64.75.80|:80... connected.\n",
      "HTTP request sent, awaiting response... 200 OK\n",
      "Length: 9517526 (9.1M) [application/x-gzip]\n",
      "Saving to: ‘reviews_Amazon_Instant_Video_5.json.gz’\n",
      "\n",
      "reviews_Amazon_Inst 100%[===================>]   9.08M  10.4MB/s    in 0.9s    \n",
      "\n",
      "2021-09-08 16:32:45 (10.4 MB/s) - ‘reviews_Amazon_Instant_Video_5.json.gz’ saved [9517526/9517526]\n",
      "\n"
     ]
    }
   ],
   "source": [
    "!wget http://snap.stanford.edu/data/amazon/productGraph/categoryFiles/reviews_Amazon_Instant_Video_5.json.gz"
   ]
  },
  {
   "cell_type": "code",
   "execution_count": 4,
   "metadata": {
    "colab": {
     "base_uri": "https://localhost:8080/",
     "height": 419
    },
    "executionInfo": {
     "elapsed": 2429,
     "status": "ok",
     "timestamp": 1631118774952,
     "user": {
      "displayName": "תומר וולק",
      "photoUrl": "https://lh3.googleusercontent.com/a-/AOh14GhDAXM5v2by4xMwnYYySIn2IrNiidPslt6u4Eez1g=s64",
      "userId": "10359306600558254546"
     },
     "user_tz": -180
    },
    "id": "LtCZSq7pwGe5",
    "outputId": "07e63f33-5d8a-446e-dc55-387672bf7892"
   },
   "outputs": [
    {
     "data": {
      "text/html": [
       "<div>\n",
       "<style scoped>\n",
       "    .dataframe tbody tr th:only-of-type {\n",
       "        vertical-align: middle;\n",
       "    }\n",
       "\n",
       "    .dataframe tbody tr th {\n",
       "        vertical-align: top;\n",
       "    }\n",
       "\n",
       "    .dataframe thead th {\n",
       "        text-align: right;\n",
       "    }\n",
       "</style>\n",
       "<table border=\"1\" class=\"dataframe\">\n",
       "  <thead>\n",
       "    <tr style=\"text-align: right;\">\n",
       "      <th></th>\n",
       "      <th>reviewerID</th>\n",
       "      <th>asin</th>\n",
       "      <th>reviewerName</th>\n",
       "      <th>helpful</th>\n",
       "      <th>reviewText</th>\n",
       "      <th>overall</th>\n",
       "      <th>summary</th>\n",
       "      <th>unixReviewTime</th>\n",
       "      <th>reviewTime</th>\n",
       "    </tr>\n",
       "  </thead>\n",
       "  <tbody>\n",
       "    <tr>\n",
       "      <th>0</th>\n",
       "      <td>A11N155CW1UV02</td>\n",
       "      <td>B000H00VBQ</td>\n",
       "      <td>AdrianaM</td>\n",
       "      <td>[0, 0]</td>\n",
       "      <td>I had big expectations because I love English ...</td>\n",
       "      <td>2.0</td>\n",
       "      <td>A little bit boring for me</td>\n",
       "      <td>1399075200</td>\n",
       "      <td>05 3, 2014</td>\n",
       "    </tr>\n",
       "    <tr>\n",
       "      <th>1</th>\n",
       "      <td>A3BC8O2KCL29V2</td>\n",
       "      <td>B000H00VBQ</td>\n",
       "      <td>Carol T</td>\n",
       "      <td>[0, 0]</td>\n",
       "      <td>I highly recommend this series. It is a must f...</td>\n",
       "      <td>5.0</td>\n",
       "      <td>Excellent Grown Up TV</td>\n",
       "      <td>1346630400</td>\n",
       "      <td>09 3, 2012</td>\n",
       "    </tr>\n",
       "    <tr>\n",
       "      <th>2</th>\n",
       "      <td>A60D5HQFOTSOM</td>\n",
       "      <td>B000H00VBQ</td>\n",
       "      <td>Daniel Cooper \"dancoopermedia\"</td>\n",
       "      <td>[0, 1]</td>\n",
       "      <td>This one is a real snoozer. Don't believe anyt...</td>\n",
       "      <td>1.0</td>\n",
       "      <td>Way too boring for me</td>\n",
       "      <td>1381881600</td>\n",
       "      <td>10 16, 2013</td>\n",
       "    </tr>\n",
       "    <tr>\n",
       "      <th>3</th>\n",
       "      <td>A1RJPIGRSNX4PW</td>\n",
       "      <td>B000H00VBQ</td>\n",
       "      <td>J. Kaplan \"JJ\"</td>\n",
       "      <td>[0, 0]</td>\n",
       "      <td>Mysteries are interesting.  The tension betwee...</td>\n",
       "      <td>4.0</td>\n",
       "      <td>Robson Green is mesmerizing</td>\n",
       "      <td>1383091200</td>\n",
       "      <td>10 30, 2013</td>\n",
       "    </tr>\n",
       "    <tr>\n",
       "      <th>4</th>\n",
       "      <td>A16XRPF40679KG</td>\n",
       "      <td>B000H00VBQ</td>\n",
       "      <td>Michael Dobey</td>\n",
       "      <td>[1, 1]</td>\n",
       "      <td>This show always is excellent, as far as briti...</td>\n",
       "      <td>5.0</td>\n",
       "      <td>Robson green and great writing</td>\n",
       "      <td>1234310400</td>\n",
       "      <td>02 11, 2009</td>\n",
       "    </tr>\n",
       "    <tr>\n",
       "      <th>...</th>\n",
       "      <td>...</td>\n",
       "      <td>...</td>\n",
       "      <td>...</td>\n",
       "      <td>...</td>\n",
       "      <td>...</td>\n",
       "      <td>...</td>\n",
       "      <td>...</td>\n",
       "      <td>...</td>\n",
       "      <td>...</td>\n",
       "    </tr>\n",
       "    <tr>\n",
       "      <th>37121</th>\n",
       "      <td>A1ELO9LMSE1CQ7</td>\n",
       "      <td>B00LPWPMCS</td>\n",
       "      <td>Mpr90</td>\n",
       "      <td>[0, 0]</td>\n",
       "      <td>I love the books! The show is amazing so far. ...</td>\n",
       "      <td>5.0</td>\n",
       "      <td>Great Series!</td>\n",
       "      <td>1405728000</td>\n",
       "      <td>07 19, 2014</td>\n",
       "    </tr>\n",
       "    <tr>\n",
       "      <th>37122</th>\n",
       "      <td>AGOEKVIJV9UX6</td>\n",
       "      <td>B00LPWPMCS</td>\n",
       "      <td>Mr. Markster</td>\n",
       "      <td>[13, 15]</td>\n",
       "      <td>\"The Strain\" has potential to be an excellent ...</td>\n",
       "      <td>5.0</td>\n",
       "      <td>Forget the Vampire Diaries -- This is a REAL V...</td>\n",
       "      <td>1405296000</td>\n",
       "      <td>07 14, 2014</td>\n",
       "    </tr>\n",
       "    <tr>\n",
       "      <th>37123</th>\n",
       "      <td>A3I291BE0RNZCU</td>\n",
       "      <td>B00LPWPMCS</td>\n",
       "      <td>Rating My Best Pick</td>\n",
       "      <td>[0, 2]</td>\n",
       "      <td>I'm not real sure on how, I should rate this s...</td>\n",
       "      <td>3.0</td>\n",
       "      <td>It's only the first episode so I'm not real su...</td>\n",
       "      <td>1405296000</td>\n",
       "      <td>07 14, 2014</td>\n",
       "    </tr>\n",
       "    <tr>\n",
       "      <th>37124</th>\n",
       "      <td>A1MNITZRYU71IO</td>\n",
       "      <td>B00LPWPMCS</td>\n",
       "      <td>Sherry \"trying in ohio\"</td>\n",
       "      <td>[1, 1]</td>\n",
       "      <td>episode one so far makes me want to watch more...</td>\n",
       "      <td>4.0</td>\n",
       "      <td>and that is good. The accents are a bit much h...</td>\n",
       "      <td>1405296000</td>\n",
       "      <td>07 14, 2014</td>\n",
       "    </tr>\n",
       "    <tr>\n",
       "      <th>37125</th>\n",
       "      <td>A1XMHK9HN5MW2H</td>\n",
       "      <td>B00LPWPMCS</td>\n",
       "      <td>Victoria J. Dennison</td>\n",
       "      <td>[3, 4]</td>\n",
       "      <td>I watched the pilot.  I guess I've just seen t...</td>\n",
       "      <td>3.0</td>\n",
       "      <td>I may have paid towatch the pilot</td>\n",
       "      <td>1405468800</td>\n",
       "      <td>07 16, 2014</td>\n",
       "    </tr>\n",
       "  </tbody>\n",
       "</table>\n",
       "<p>37126 rows × 9 columns</p>\n",
       "</div>"
      ],
      "text/plain": [
       "           reviewerID        asin                    reviewerName   helpful  \\\n",
       "0      A11N155CW1UV02  B000H00VBQ                        AdrianaM    [0, 0]   \n",
       "1      A3BC8O2KCL29V2  B000H00VBQ                         Carol T    [0, 0]   \n",
       "2       A60D5HQFOTSOM  B000H00VBQ  Daniel Cooper \"dancoopermedia\"    [0, 1]   \n",
       "3      A1RJPIGRSNX4PW  B000H00VBQ                  J. Kaplan \"JJ\"    [0, 0]   \n",
       "4      A16XRPF40679KG  B000H00VBQ                   Michael Dobey    [1, 1]   \n",
       "...               ...         ...                             ...       ...   \n",
       "37121  A1ELO9LMSE1CQ7  B00LPWPMCS                           Mpr90    [0, 0]   \n",
       "37122   AGOEKVIJV9UX6  B00LPWPMCS                    Mr. Markster  [13, 15]   \n",
       "37123  A3I291BE0RNZCU  B00LPWPMCS             Rating My Best Pick    [0, 2]   \n",
       "37124  A1MNITZRYU71IO  B00LPWPMCS         Sherry \"trying in ohio\"    [1, 1]   \n",
       "37125  A1XMHK9HN5MW2H  B00LPWPMCS            Victoria J. Dennison    [3, 4]   \n",
       "\n",
       "                                              reviewText  overall  \\\n",
       "0      I had big expectations because I love English ...      2.0   \n",
       "1      I highly recommend this series. It is a must f...      5.0   \n",
       "2      This one is a real snoozer. Don't believe anyt...      1.0   \n",
       "3      Mysteries are interesting.  The tension betwee...      4.0   \n",
       "4      This show always is excellent, as far as briti...      5.0   \n",
       "...                                                  ...      ...   \n",
       "37121  I love the books! The show is amazing so far. ...      5.0   \n",
       "37122  \"The Strain\" has potential to be an excellent ...      5.0   \n",
       "37123  I'm not real sure on how, I should rate this s...      3.0   \n",
       "37124  episode one so far makes me want to watch more...      4.0   \n",
       "37125  I watched the pilot.  I guess I've just seen t...      3.0   \n",
       "\n",
       "                                                 summary  unixReviewTime  \\\n",
       "0                             A little bit boring for me      1399075200   \n",
       "1                                  Excellent Grown Up TV      1346630400   \n",
       "2                                  Way too boring for me      1381881600   \n",
       "3                            Robson Green is mesmerizing      1383091200   \n",
       "4                         Robson green and great writing      1234310400   \n",
       "...                                                  ...             ...   \n",
       "37121                                      Great Series!      1405728000   \n",
       "37122  Forget the Vampire Diaries -- This is a REAL V...      1405296000   \n",
       "37123  It's only the first episode so I'm not real su...      1405296000   \n",
       "37124  and that is good. The accents are a bit much h...      1405296000   \n",
       "37125                  I may have paid towatch the pilot      1405468800   \n",
       "\n",
       "        reviewTime  \n",
       "0       05 3, 2014  \n",
       "1       09 3, 2012  \n",
       "2      10 16, 2013  \n",
       "3      10 30, 2013  \n",
       "4      02 11, 2009  \n",
       "...            ...  \n",
       "37121  07 19, 2014  \n",
       "37122  07 14, 2014  \n",
       "37123  07 14, 2014  \n",
       "37124  07 14, 2014  \n",
       "37125  07 16, 2014  \n",
       "\n",
       "[37126 rows x 9 columns]"
      ]
     },
     "execution_count": 4,
     "metadata": {},
     "output_type": "execute_result"
    }
   ],
   "source": [
    "DATA_PATH = 'reviews_Amazon_Instant_Video_5.json.gz'\n",
    "def parse(path):\n",
    "  g = gzip.open(path, 'rb')\n",
    "  for l in g:\n",
    "    yield eval(l)\n",
    "\n",
    "def getDF(path):\n",
    "  i = 0\n",
    "  df = {}\n",
    "  for d in parse(path):\n",
    "    df[i] = d\n",
    "    i += 1\n",
    "  return pd.DataFrame.from_dict(df, orient='index')\n",
    "\n",
    "original_data = getDF(DATA_PATH)\n",
    "original_data"
   ]
  },
  {
   "cell_type": "code",
   "execution_count": 5,
   "metadata": {
    "colab": {
     "base_uri": "https://localhost:8080/",
     "height": 419
    },
    "executionInfo": {
     "elapsed": 256,
     "status": "ok",
     "timestamp": 1631118778515,
     "user": {
      "displayName": "תומר וולק",
      "photoUrl": "https://lh3.googleusercontent.com/a-/AOh14GhDAXM5v2by4xMwnYYySIn2IrNiidPslt6u4Eez1g=s64",
      "userId": "10359306600558254546"
     },
     "user_tz": -180
    },
    "id": "FIZR20IGx5Wp",
    "outputId": "cf2995ce-a8c0-40cf-be63-2032626e277c"
   },
   "outputs": [
    {
     "data": {
      "text/html": [
       "<div>\n",
       "<style scoped>\n",
       "    .dataframe tbody tr th:only-of-type {\n",
       "        vertical-align: middle;\n",
       "    }\n",
       "\n",
       "    .dataframe tbody tr th {\n",
       "        vertical-align: top;\n",
       "    }\n",
       "\n",
       "    .dataframe thead th {\n",
       "        text-align: right;\n",
       "    }\n",
       "</style>\n",
       "<table border=\"1\" class=\"dataframe\">\n",
       "  <thead>\n",
       "    <tr style=\"text-align: right;\">\n",
       "      <th></th>\n",
       "      <th>reviewText</th>\n",
       "      <th>label</th>\n",
       "    </tr>\n",
       "  </thead>\n",
       "  <tbody>\n",
       "    <tr>\n",
       "      <th>0</th>\n",
       "      <td>I had big expectations because I love English ...</td>\n",
       "      <td>Negative</td>\n",
       "    </tr>\n",
       "    <tr>\n",
       "      <th>1</th>\n",
       "      <td>I highly recommend this series. It is a must f...</td>\n",
       "      <td>Positive</td>\n",
       "    </tr>\n",
       "    <tr>\n",
       "      <th>2</th>\n",
       "      <td>This one is a real snoozer. Don't believe anyt...</td>\n",
       "      <td>Negative</td>\n",
       "    </tr>\n",
       "    <tr>\n",
       "      <th>3</th>\n",
       "      <td>Mysteries are interesting.  The tension betwee...</td>\n",
       "      <td>Positive</td>\n",
       "    </tr>\n",
       "    <tr>\n",
       "      <th>4</th>\n",
       "      <td>This show always is excellent, as far as briti...</td>\n",
       "      <td>Positive</td>\n",
       "    </tr>\n",
       "    <tr>\n",
       "      <th>...</th>\n",
       "      <td>...</td>\n",
       "      <td>...</td>\n",
       "    </tr>\n",
       "    <tr>\n",
       "      <th>37121</th>\n",
       "      <td>I love the books! The show is amazing so far. ...</td>\n",
       "      <td>Positive</td>\n",
       "    </tr>\n",
       "    <tr>\n",
       "      <th>37122</th>\n",
       "      <td>\"The Strain\" has potential to be an excellent ...</td>\n",
       "      <td>Positive</td>\n",
       "    </tr>\n",
       "    <tr>\n",
       "      <th>37123</th>\n",
       "      <td>I'm not real sure on how, I should rate this s...</td>\n",
       "      <td>Negative</td>\n",
       "    </tr>\n",
       "    <tr>\n",
       "      <th>37124</th>\n",
       "      <td>episode one so far makes me want to watch more...</td>\n",
       "      <td>Positive</td>\n",
       "    </tr>\n",
       "    <tr>\n",
       "      <th>37125</th>\n",
       "      <td>I watched the pilot.  I guess I've just seen t...</td>\n",
       "      <td>Negative</td>\n",
       "    </tr>\n",
       "  </tbody>\n",
       "</table>\n",
       "<p>37119 rows × 2 columns</p>\n",
       "</div>"
      ],
      "text/plain": [
       "                                              reviewText     label\n",
       "0      I had big expectations because I love English ...  Negative\n",
       "1      I highly recommend this series. It is a must f...  Positive\n",
       "2      This one is a real snoozer. Don't believe anyt...  Negative\n",
       "3      Mysteries are interesting.  The tension betwee...  Positive\n",
       "4      This show always is excellent, as far as briti...  Positive\n",
       "...                                                  ...       ...\n",
       "37121  I love the books! The show is amazing so far. ...  Positive\n",
       "37122  \"The Strain\" has potential to be an excellent ...  Positive\n",
       "37123  I'm not real sure on how, I should rate this s...  Negative\n",
       "37124  episode one so far makes me want to watch more...  Positive\n",
       "37125  I watched the pilot.  I guess I've just seen t...  Negative\n",
       "\n",
       "[37119 rows x 2 columns]"
      ]
     },
     "execution_count": 5,
     "metadata": {},
     "output_type": "execute_result"
    }
   ],
   "source": [
    "data = original_data.copy()\n",
    "data = data[['reviewText', 'overall']]\n",
    "data['label'] = data['overall'] > 3\n",
    "data.drop_duplicates(inplace=True)\n",
    "data.dropna(inplace=True)\n",
    "data.drop(columns='overall', inplace=True)\n",
    "data.replace({False: \"Negative\", True: \"Positive\"}, inplace=True)\n",
    "data"
   ]
  },
  {
   "cell_type": "code",
   "execution_count": 6,
   "metadata": {
    "executionInfo": {
     "elapsed": 242,
     "status": "ok",
     "timestamp": 1631118782527,
     "user": {
      "displayName": "תומר וולק",
      "photoUrl": "https://lh3.googleusercontent.com/a-/AOh14GhDAXM5v2by4xMwnYYySIn2IrNiidPslt6u4Eez1g=s64",
      "userId": "10359306600558254546"
     },
     "user_tz": -180
    },
    "id": "axQhv6PbyaNo"
   },
   "outputs": [],
   "source": [
    "train, test = train_test_split(data,  test_size=0.2, random_state=42)"
   ]
  },
  {
   "cell_type": "markdown",
   "metadata": {
    "id": "_qhitVdb0__j"
   },
   "source": [
    "## Creating The TF-IDF Representations"
   ]
  },
  {
   "cell_type": "code",
   "execution_count": 7,
   "metadata": {
    "executionInfo": {
     "elapsed": 236,
     "status": "ok",
     "timestamp": 1631118784396,
     "user": {
      "displayName": "תומר וולק",
      "photoUrl": "https://lh3.googleusercontent.com/a-/AOh14GhDAXM5v2by4xMwnYYySIn2IrNiidPslt6u4Eez1g=s64",
      "userId": "10359306600558254546"
     },
     "user_tz": -180
    },
    "id": "dmQW_ZhbzF5Q"
   },
   "outputs": [],
   "source": [
    "from sklearn.feature_extraction.text import TfidfVectorizer"
   ]
  },
  {
   "cell_type": "code",
   "execution_count": 8,
   "metadata": {
    "executionInfo": {
     "elapsed": 314,
     "status": "ok",
     "timestamp": 1631118784959,
     "user": {
      "displayName": "תומר וולק",
      "photoUrl": "https://lh3.googleusercontent.com/a-/AOh14GhDAXM5v2by4xMwnYYySIn2IrNiidPslt6u4Eez1g=s64",
      "userId": "10359306600558254546"
     },
     "user_tz": -180
    },
    "id": "Rn17ZF8J1QqD"
   },
   "outputs": [],
   "source": [
    "train_x, train_y = train['reviewText'].tolist(), train['label'].tolist()\n",
    "test_x, test_y = test['reviewText'].tolist(), test['label'].tolist()"
   ]
  },
  {
   "cell_type": "code",
   "execution_count": 9,
   "metadata": {
    "executionInfo": {
     "elapsed": 3212,
     "status": "ok",
     "timestamp": 1631118788417,
     "user": {
      "displayName": "תומר וולק",
      "photoUrl": "https://lh3.googleusercontent.com/a-/AOh14GhDAXM5v2by4xMwnYYySIn2IrNiidPslt6u4Eez1g=s64",
      "userId": "10359306600558254546"
     },
     "user_tz": -180
    },
    "id": "O0L4Nevi1o6v"
   },
   "outputs": [],
   "source": [
    "tf_vectorizer = TfidfVectorizer(lowercase=True, stop_words=None)\n",
    "train_vec = tf_vectorizer.fit_transform(train_x)\n",
    "test_vec = tf_vectorizer.transform(test_x)"
   ]
  },
  {
   "cell_type": "code",
   "execution_count": 10,
   "metadata": {
    "colab": {
     "base_uri": "https://localhost:8080/"
    },
    "executionInfo": {
     "elapsed": 4,
     "status": "ok",
     "timestamp": 1631118788418,
     "user": {
      "displayName": "תומר וולק",
      "photoUrl": "https://lh3.googleusercontent.com/a-/AOh14GhDAXM5v2by4xMwnYYySIn2IrNiidPslt6u4Eez1g=s64",
      "userId": "10359306600558254546"
     },
     "user_tz": -180
    },
    "id": "MtOcT27F2fXe",
    "outputId": "bcfa6f01-9f53-4b2c-a723-5c4aff34791f"
   },
   "outputs": [
    {
     "name": "stdout",
     "output_type": "stream",
     "text": [
      "(29695, 49221)\n",
      "(7424, 49221)\n"
     ]
    }
   ],
   "source": [
    "print(train_vec.shape)\n",
    "print(test_vec.shape)"
   ]
  },
  {
   "cell_type": "markdown",
   "metadata": {
    "id": "9yBfq-_E3q_Y"
   },
   "source": [
    "## Training The Model"
   ]
  },
  {
   "cell_type": "code",
   "execution_count": 11,
   "metadata": {
    "executionInfo": {
     "elapsed": 247,
     "status": "ok",
     "timestamp": 1631118792958,
     "user": {
      "displayName": "תומר וולק",
      "photoUrl": "https://lh3.googleusercontent.com/a-/AOh14GhDAXM5v2by4xMwnYYySIn2IrNiidPslt6u4Eez1g=s64",
      "userId": "10359306600558254546"
     },
     "user_tz": -180
    },
    "id": "YxVcPsL023dm"
   },
   "outputs": [],
   "source": [
    "from sklearn.neighbors import KNeighborsClassifier"
   ]
  },
  {
   "cell_type": "code",
   "execution_count": 12,
   "metadata": {
    "executionInfo": {
     "elapsed": 2,
     "status": "ok",
     "timestamp": 1631118793202,
     "user": {
      "displayName": "תומר וולק",
      "photoUrl": "https://lh3.googleusercontent.com/a-/AOh14GhDAXM5v2by4xMwnYYySIn2IrNiidPslt6u4Eez1g=s64",
      "userId": "10359306600558254546"
     },
     "user_tz": -180
    },
    "id": "SlRsRDuF3yMy"
   },
   "outputs": [],
   "source": [
    "classifier = KNeighborsClassifier(n_neighbors=5)\n",
    "classifier = classifier.fit(train_vec, train_y)"
   ]
  },
  {
   "cell_type": "markdown",
   "metadata": {
    "id": "mNWI17ud5b8a"
   },
   "source": [
    "## Testing The Model"
   ]
  },
  {
   "cell_type": "code",
   "execution_count": 13,
   "metadata": {
    "executionInfo": {
     "elapsed": 239,
     "status": "ok",
     "timestamp": 1631118794954,
     "user": {
      "displayName": "תומר וולק",
      "photoUrl": "https://lh3.googleusercontent.com/a-/AOh14GhDAXM5v2by4xMwnYYySIn2IrNiidPslt6u4Eez1g=s64",
      "userId": "10359306600558254546"
     },
     "user_tz": -180
    },
    "id": "JUHA6Kke6ZN-"
   },
   "outputs": [],
   "source": [
    "from sklearn.metrics import confusion_matrix, f1_score, recall_score, precision_score, accuracy_score\n",
    "from matplotlib import pyplot as plt\n",
    "import seaborn as sns"
   ]
  },
  {
   "cell_type": "code",
   "execution_count": 14,
   "metadata": {
    "executionInfo": {
     "elapsed": 16970,
     "status": "ok",
     "timestamp": 1631118812180,
     "user": {
      "displayName": "תומר וולק",
      "photoUrl": "https://lh3.googleusercontent.com/a-/AOh14GhDAXM5v2by4xMwnYYySIn2IrNiidPslt6u4Eez1g=s64",
      "userId": "10359306600558254546"
     },
     "user_tz": -180
    },
    "id": "UGBv5Mnq3-PN"
   },
   "outputs": [],
   "source": [
    "test_pred = classifier.predict(test_vec)"
   ]
  },
  {
   "cell_type": "code",
   "execution_count": 15,
   "metadata": {
    "colab": {
     "base_uri": "https://localhost:8080/",
     "height": 295
    },
    "executionInfo": {
     "elapsed": 389,
     "status": "ok",
     "timestamp": 1631118812569,
     "user": {
      "displayName": "תומר וולק",
      "photoUrl": "https://lh3.googleusercontent.com/a-/AOh14GhDAXM5v2by4xMwnYYySIn2IrNiidPslt6u4Eez1g=s64",
      "userId": "10359306600558254546"
     },
     "user_tz": -180
    },
    "id": "w26kxPbV6Qp2",
    "outputId": "e1376b4d-640f-40aa-9cf3-d254abbb1e47"
   },
   "outputs": [
    {
     "name": "stderr",
     "output_type": "stream",
     "text": [
      "C:\\Users\\tomer\\anaconda3\\lib\\site-packages\\sklearn\\utils\\validation.py:70: FutureWarning: Pass labels=['Negative', 'Positive'] as keyword args. From version 1.0 (renaming of 0.25) passing these as positional arguments will result in an error\n",
      "  warnings.warn(f\"Pass {args_msg} as keyword args. From version \"\n"
     ]
    },
    {
     "data": {
      "image/png": "[encoded data removed]",
      "text/plain": [
       "<Figure size 432x288 with 2 Axes>"
      ]
     },
     "metadata": {
      "needs_background": "light"
     },
     "output_type": "display_data"
    }
   ],
   "source": [
    "labels = classifier.classes_.tolist()\n",
    "cm = confusion_matrix(test_y, test_pred, labels)\n",
    "ax = plt.subplot()\n",
    "sns.heatmap(cm, annot=True, fmt='g', ax=ax)  #annot=True to annotate cells, ftm='g' to disable scientific notation\n",
    "\n",
    "# labels, title and ticks\n",
    "ax.set_xlabel('Predicted labels')\n",
    "ax.set_ylabel('True labels')\n",
    "ax.set_title('Confusion Matrix')\n",
    "ax.xaxis.set_ticklabels(labels)\n",
    "ax.yaxis.set_ticklabels(labels)\n",
    "plt.show()"
   ]
  },
  {
   "cell_type": "code",
   "execution_count": 16,
   "metadata": {
    "colab": {
     "base_uri": "https://localhost:8080/"
    },
    "executionInfo": {
     "elapsed": 5,
     "status": "ok",
     "timestamp": 1631118812570,
     "user": {
      "displayName": "תומר וולק",
      "photoUrl": "https://lh3.googleusercontent.com/a-/AOh14GhDAXM5v2by4xMwnYYySIn2IrNiidPslt6u4Eez1g=s64",
      "userId": "10359306600558254546"
     },
     "user_tz": -180
    },
    "id": "40NYZU4N6vMz",
    "outputId": "d92a60ea-7d27-4cda-dc5f-8b9c10e2deff"
   },
   "outputs": [
    {
     "name": "stdout",
     "output_type": "stream",
     "text": [
      "Accuracy is: 0.8075161637931034\n",
      "Recall is: 0.9603789836347976\n",
      "Precision is: 0.8229997047534692\n",
      "F1 is: 0.8863979648620717\n"
     ]
    }
   ],
   "source": [
    "f1 = f1_score(test_y, test_pred, pos_label='Positive')\n",
    "recall = recall_score(test_y, test_pred, pos_label='Positive')\n",
    "precision = precision_score(test_y, test_pred, pos_label='Positive')\n",
    "accuracy = accuracy_score(test_y, test_pred)\n",
    "print(f'Accuracy is: {accuracy}')\n",
    "print(f'Recall is: {recall}')\n",
    "print(f'Precision is: {precision}')\n",
    "print(f'F1 is: {f1}')\n"
   ]
  },
  {
   "cell_type": "code",
   "execution_count": null,
   "metadata": {
    "id": "nMS99xhW9Jf8"
   },
   "outputs": [],
   "source": []
  }
 ],
 "metadata": {
  "colab": {
   "collapsed_sections": [],
   "name": "Tutorial 01 - intro to ML.ipynb",
   "provenance": []
  },
  "kernelspec": {
   "display_name": "Python 3 (ipykernel)",
   "language": "python",
   "name": "python3"
  },
  "language_info": {
   "codemirror_mode": {
    "name": "ipython",
    "version": 3
   },
   "file_extension": ".py",
   "mimetype": "text/x-python",
   "name": "python",
   "nbconvert_exporter": "python",
   "pygments_lexer": "ipython3",
   "version": "3.8.8"
  }
 },
 "nbformat": 4,
 "nbformat_minor": 1
}
