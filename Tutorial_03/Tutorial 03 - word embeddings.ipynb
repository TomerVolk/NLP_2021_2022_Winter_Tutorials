{
 "cells": [
  {
   "cell_type": "markdown",
   "metadata": {
    "id": "JEUjNrhz3p-y"
   },
   "source": [
    "# Word Embeddings"
   ]
  },
  {
   "cell_type": "code",
   "execution_count": null,
   "metadata": {
    "colab": {
     "base_uri": "https://localhost:8080/",
     "height": 555
    },
    "executionInfo": {
     "elapsed": 19208,
     "status": "ok",
     "timestamp": 1631532415292,
     "user": {
      "displayName": "תומר וולק",
      "photoUrl": "https://lh3.googleusercontent.com/a-/AOh14GhDAXM5v2by4xMwnYYySIn2IrNiidPslt6u4Eez1g=s64",
      "userId": "10359306600558254546"
     },
     "user_tz": -180
    },
    "id": "TVVgZCg0RUox",
    "outputId": "730d180a-d5f4-446c-c9fc-5d16d6960f21"
   },
   "outputs": [],
   "source": [
    "!pip install gensim --upgrade\n",
    "!pip install numpy --upgrade"
   ]
  },
  {
   "cell_type": "code",
   "execution_count": 1,
   "metadata": {
    "executionInfo": {
     "elapsed": 351,
     "status": "ok",
     "timestamp": 1631532714743,
     "user": {
      "displayName": "תומר וולק",
      "photoUrl": "https://lh3.googleusercontent.com/a-/AOh14GhDAXM5v2by4xMwnYYySIn2IrNiidPslt6u4Eez1g=s64",
      "userId": "10359306600558254546"
     },
     "user_tz": -180
    },
    "id": "PJ6gpAJCop9D"
   },
   "outputs": [],
   "source": [
    "from gensim import downloader\n",
    "import numpy as np"
   ]
  },
  {
   "cell_type": "code",
   "execution_count": 2,
   "metadata": {
    "colab": {
     "base_uri": "https://localhost:8080/"
    },
    "executionInfo": {
     "elapsed": 285,
     "status": "ok",
     "timestamp": 1631532818128,
     "user": {
      "displayName": "תומר וולק",
      "photoUrl": "https://lh3.googleusercontent.com/a-/AOh14GhDAXM5v2by4xMwnYYySIn2IrNiidPslt6u4Eez1g=s64",
      "userId": "10359306600558254546"
     },
     "user_tz": -180
    },
    "id": "NY4Krmgt7t-y",
    "outputId": "f5d172c8-1bec-4689-9bad-fbea928dd76a"
   },
   "outputs": [
    {
     "name": "stdout",
     "output_type": "stream",
     "text": [
      "4.1.2\n"
     ]
    }
   ],
   "source": [
    "import gensim\n",
    "print(gensim.__version__)"
   ]
  },
  {
   "cell_type": "markdown",
   "metadata": {
    "id": "e6G8nu1W3wtX"
   },
   "source": [
    "## Loading The Pretrained Weights\n",
    "Supported options are at https://radimrehurek.com/gensim/models/word2vec.html#pretrained-models"
   ]
  },
  {
   "cell_type": "code",
   "execution_count": 7,
   "metadata": {
    "executionInfo": {
     "elapsed": 4,
     "status": "ok",
     "timestamp": 1631532554855,
     "user": {
      "displayName": "תומר וולק",
      "photoUrl": "https://lh3.googleusercontent.com/a-/AOh14GhDAXM5v2by4xMwnYYySIn2IrNiidPslt6u4Eez1g=s64",
      "userId": "10359306600558254546"
     },
     "user_tz": -180
    },
    "id": "1ieBE5Zo7-iv"
   },
   "outputs": [],
   "source": [
    "WORD_2_VEC_PATH = 'word2vec-google-news-300'\n",
    "GLOVE_PATH = 'glove-twitter-200'"
   ]
  },
  {
   "cell_type": "code",
   "execution_count": 9,
   "metadata": {
    "colab": {
     "base_uri": "https://localhost:8080/"
    },
    "executionInfo": {
     "elapsed": 79174,
     "status": "ok",
     "timestamp": 1631532634025,
     "user": {
      "displayName": "תומר וולק",
      "photoUrl": "https://lh3.googleusercontent.com/a-/AOh14GhDAXM5v2by4xMwnYYySIn2IrNiidPslt6u4Eez1g=s64",
      "userId": "10359306600558254546"
     },
     "user_tz": -180
    },
    "id": "TqRr4ctUpAK4",
    "outputId": "ccd55276-e406-4ea5-9571-f405c2eb649c"
   },
   "outputs": [],
   "source": [
    "glove = downloader.load(GLOVE_PATH)"
   ]
  },
  {
   "cell_type": "markdown",
   "metadata": {
    "id": "5FOkwYA_8iRU"
   },
   "source": [
    "## Using The Pre-Trained Vecotors"
   ]
  },
  {
   "cell_type": "code",
   "execution_count": 10,
   "metadata": {
    "colab": {
     "base_uri": "https://localhost:8080/"
    },
    "executionInfo": {
     "elapsed": 3,
     "status": "ok",
     "timestamp": 1631532904080,
     "user": {
      "displayName": "תומר וולק",
      "photoUrl": "https://lh3.googleusercontent.com/a-/AOh14GhDAXM5v2by4xMwnYYySIn2IrNiidPslt6u4Eez1g=s64",
      "userId": "10359306600558254546"
     },
     "user_tz": -180
    },
    "id": "ukua0IZBpm-Z",
    "outputId": "fe045773-32f5-429d-8efa-90d61090b8e4"
   },
   "outputs": [
    {
     "name": "stdout",
     "output_type": "stream",
     "text": [
      "asjfgsrafkjhbfgk not an existing word in the model\n",
      "(4, 200)\n"
     ]
    }
   ],
   "source": [
    "sen = \"good morning to you asjfgsrafkjhbfgk\"\n",
    "representation = []\n",
    "for word in sen.split():\n",
    "    if word not in glove.key_to_index:\n",
    "        print(f\"{word} not an existing word in the model\")\n",
    "        continue\n",
    "    vec = glove[word]\n",
    "    representation.append(vec)\n",
    "representation = np.asarray(representation)\n",
    "print(representation.shape)"
   ]
  },
  {
   "cell_type": "code",
   "execution_count": 26,
   "metadata": {
    "colab": {
     "base_uri": "https://localhost:8080/"
    },
    "executionInfo": {
     "elapsed": 295,
     "status": "ok",
     "timestamp": 1631532969645,
     "user": {
      "displayName": "תומר וולק",
      "photoUrl": "https://lh3.googleusercontent.com/a-/AOh14GhDAXM5v2by4xMwnYYySIn2IrNiidPslt6u4Eez1g=s64",
      "userId": "10359306600558254546"
     },
     "user_tz": -180
    },
    "id": "hUUNGQv28e0E",
    "outputId": "491e02d3-6195-4fee-93c1-d6abccb746c9"
   },
   "outputs": [
    {
     "data": {
      "text/plain": [
       "[('programs', 0.6853476762771606),\n",
       " ('seminar', 0.6410128474235535),\n",
       " ('training', 0.6214897036552429),\n",
       " ('workshop', 0.591772735118866),\n",
       " ('system', 0.5909943580627441)]"
      ]
     },
     "execution_count": 26,
     "metadata": {},
     "output_type": "execute_result"
    }
   ],
   "source": [
    "glove.most_similar('program', topn=5)"
   ]
  },
  {
   "cell_type": "code",
   "execution_count": 18,
   "metadata": {
    "id": "wlcfk5NdDxLD"
   },
   "outputs": [
    {
     "data": {
      "text/plain": [
       "[('queen', 0.6820898056030273),\n",
       " ('prince', 0.5875527262687683),\n",
       " ('princess', 0.5620488524436951),\n",
       " ('royal', 0.5522865653038025),\n",
       " ('mother', 0.5362966656684875)]"
      ]
     },
     "execution_count": 18,
     "metadata": {},
     "output_type": "execute_result"
    }
   ],
   "source": [
    "glove.most_similar(positive=['woman', 'king'], negative=['man'], topn=5)"
   ]
  },
  {
   "cell_type": "code",
   "execution_count": 23,
   "metadata": {},
   "outputs": [
    {
     "data": {
      "text/plain": [
       "[('france', 0.7369073033332825),\n",
       " ('spain', 0.6768407225608826),\n",
       " ('portugal', 0.6567486524581909),\n",
       " ('italy', 0.6421884298324585),\n",
       " ('denmark', 0.6146384477615356)]"
      ]
     },
     "execution_count": 23,
     "metadata": {},
     "output_type": "execute_result"
    }
   ],
   "source": [
    "glove.most_similar(positive=['paris','germany'], negative=['berlin'], topn = 5)"
   ]
  },
  {
   "cell_type": "code",
   "execution_count": 24,
   "metadata": {},
   "outputs": [
    {
     "data": {
      "text/plain": [
       "[('walked', 0.5864155888557434),\n",
       " ('drove', 0.5215498805046082),\n",
       " ('ran', 0.5134605169296265),\n",
       " ('sprinted', 0.4759795069694519),\n",
       " ('stood', 0.47308677434921265)]"
      ]
     },
     "execution_count": 24,
     "metadata": {},
     "output_type": "execute_result"
    }
   ],
   "source": [
    "glove.most_similar(positive=['walking','swam'], negative=['swimming'], topn = 5)"
   ]
  },
  {
   "cell_type": "code",
   "execution_count": null,
   "metadata": {},
   "outputs": [],
   "source": []
  }
 ],
 "metadata": {
  "colab": {
   "authorship_tag": "ABX9TyMgdNw2uYIAIlJxbRTycMZM",
   "collapsed_sections": [],
   "name": "Tutorial 03 - word embeddings.ipynb",
   "provenance": []
  },
  "kernelspec": {
   "display_name": "Python 3 (ipykernel)",
   "language": "python",
   "name": "python3"
  },
  "language_info": {
   "codemirror_mode": {
    "name": "ipython",
    "version": 3
   },
   "file_extension": ".py",
   "mimetype": "text/x-python",
   "name": "python",
   "nbconvert_exporter": "python",
   "pygments_lexer": "ipython3",
   "version": "3.8.8"
  }
 },
 "nbformat": 4,
 "nbformat_minor": 1
}
